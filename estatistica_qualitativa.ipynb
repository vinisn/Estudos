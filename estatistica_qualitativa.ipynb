{
 "metadata": {
  "language_info": {
   "codemirror_mode": {
    "name": "ipython",
    "version": 3
   },
   "file_extension": ".py",
   "mimetype": "text/x-python",
   "name": "python",
   "nbconvert_exporter": "python",
   "pygments_lexer": "ipython3",
   "version": "3.9.2-final"
  },
  "orig_nbformat": 2,
  "kernelspec": {
   "name": "python392jvsc74a57bd0bcfd863da58b9fb3da75a28e1c96bb16babd0fe114f33851b201fe0a1b6527ef",
   "display_name": "Python 3.9.2 64-bit"
  },
  "metadata": {
   "interpreter": {
    "hash": "bcfd863da58b9fb3da75a28e1c96bb16babd0fe114f33851b201fe0a1b6527ef"
   }
  }
 },
 "nbformat": 4,
 "nbformat_minor": 2,
 "cells": [
  {
   "source": [
    "# RELATÓRIO 1"
   ],
   "cell_type": "markdown",
   "metadata": {}
  },
  {
   "source": [
    "## iMPORTANDO DADOS"
   ],
   "cell_type": "markdown",
   "metadata": {}
  },
  {
   "cell_type": "code",
   "execution_count": 2,
   "metadata": {},
   "outputs": [],
   "source": [
    "# TESTE\n",
    "import pandas as pd\n",
    "dados = pd.read_csv('C:\\\\Users\\\\vinis\\\\Desktop\\\\Programação\\\\Python_Data_Science\\\\aluguel.csv', sep=';')\n",
    "informacoes = pd.DataFrame(dados.dtypes, columns=['Tipos de variaveis'])\n",
    "informacoes.columns.name = 'VAriaveis'\n"
   ]
  },
  {
   "cell_type": "code",
   "execution_count": 32,
   "metadata": {},
   "outputs": [
    {
     "output_type": "execute_result",
     "data": {
      "text/plain": [
       "Index   Sexo\n",
       "0      53250\n",
       "1      23590"
      ],
      "text/html": "<div>\n<style scoped>\n    .dataframe tbody tr th:only-of-type {\n        vertical-align: middle;\n    }\n\n    .dataframe tbody tr th {\n        vertical-align: top;\n    }\n\n    .dataframe thead th {\n        text-align: right;\n    }\n</style>\n<table border=\"1\" class=\"dataframe\">\n  <thead>\n    <tr style=\"text-align: right;\">\n      <th>Index</th>\n      <th>Sexo</th>\n    </tr>\n  </thead>\n  <tbody>\n    <tr>\n      <th>0</th>\n      <td>53250</td>\n    </tr>\n    <tr>\n      <th>1</th>\n      <td>23590</td>\n    </tr>\n  </tbody>\n</table>\n</div>"
     },
     "metadata": {},
     "execution_count": 32
    }
   ],
   "source": [
    "dataset = pd.read_csv('C:\\\\Users\\\\vinis\\\\Desktop\\\\dados.csv', sep=';')\n",
    "# sorted(dataset['Anos de Estudo'].unique())\n",
    "# sorted(dataset['UF'].unique())\n",
    "# dataset['Sexo'].value_counts()\n",
    "uf =pd.DataFrame(dataset['Sexo'].value_counts())\n",
    "uf.columns.name = 'Index'\n",
    "uf\n"
   ]
  },
  {
   "cell_type": "code",
   "execution_count": 44,
   "metadata": {},
   "outputs": [
    {
     "output_type": "execute_result",
     "data": {
      "text/plain": [
       "Sexo       Frequencia  Porcentagem (%)\n",
       "Masculino       53250        69.299844\n",
       "Feminino        23590        30.700156"
      ],
      "text/html": "<div>\n<style scoped>\n    .dataframe tbody tr th:only-of-type {\n        vertical-align: middle;\n    }\n\n    .dataframe tbody tr th {\n        vertical-align: top;\n    }\n\n    .dataframe thead th {\n        text-align: right;\n    }\n</style>\n<table border=\"1\" class=\"dataframe\">\n  <thead>\n    <tr style=\"text-align: right;\">\n      <th>Sexo</th>\n      <th>Frequencia</th>\n      <th>Porcentagem (%)</th>\n    </tr>\n  </thead>\n  <tbody>\n    <tr>\n      <th>Masculino</th>\n      <td>53250</td>\n      <td>69.299844</td>\n    </tr>\n    <tr>\n      <th>Feminino</th>\n      <td>23590</td>\n      <td>30.700156</td>\n    </tr>\n  </tbody>\n</table>\n</div>"
     },
     "metadata": {},
     "execution_count": 44
    }
   ],
   "source": [
    "dataset = pd.read_csv('C:\\\\Users\\\\vinis\\\\Desktop\\\\dados.csv', sep=';')\n",
    "#'Frequencia\" possui o código para quantificar a frequência com que cada sexo aparece. 'Percentual' possui o código para transformar a frequência em porcentagem devido ao trecho '(normalize = True) * 100)\n",
    "frequencia = dataset['Sexo'].value_counts()\n",
    "percentual = dataset['Sexo'].value_counts(normalize = True) * 100\n",
    "#Criei um DataFrame em cima de um dicionário contendo as duas variáveis criadas a cima incluindo os códigos de frequencia e percentual.\n",
    "dist_freq = pd.DataFrame({'Frequencia': frequencia, 'Porcentagem (%)': percentual})\n",
    "#Alterei o nome do index utilizando o dist_freq.rename\n",
    "dist_freq.rename(index = {0: 'Masculino', 1: 'Feminino'}, inplace = True)\n",
    "#Alterei o nome da COLUNA do index. Caso quisesse alterar a linha, deve-se trocar o 'columns' no método axis para 'rows' \n",
    "dist_freq.rename_axis('Sexo', axis = 'columns', inplace = True)\n",
    "dist_freq\n"
   ]
  },
  {
   "source": [
    "CRUZANDO TABELAS\n",
    "\n"
   ],
   "cell_type": "markdown",
   "metadata": {}
  },
  {
   "cell_type": "code",
   "execution_count": 65,
   "metadata": {},
   "outputs": [
    {
     "output_type": "execute_result",
     "data": {
      "text/plain": [
       "Cor        Indigena     Branca     Preta   Amarela      Parda\n",
       "Sexo                                                         \n",
       "Masculino  0.333160  28.883394  7.160333  0.305830  32.617126\n",
       "Feminino   0.131442  12.520822  3.759761  0.152264  14.135867"
      ],
      "text/html": "<div>\n<style scoped>\n    .dataframe tbody tr th:only-of-type {\n        vertical-align: middle;\n    }\n\n    .dataframe tbody tr th {\n        vertical-align: top;\n    }\n\n    .dataframe thead th {\n        text-align: right;\n    }\n</style>\n<table border=\"1\" class=\"dataframe\">\n  <thead>\n    <tr style=\"text-align: right;\">\n      <th>Cor</th>\n      <th>Indigena</th>\n      <th>Branca</th>\n      <th>Preta</th>\n      <th>Amarela</th>\n      <th>Parda</th>\n    </tr>\n    <tr>\n      <th>Sexo</th>\n      <th></th>\n      <th></th>\n      <th></th>\n      <th></th>\n      <th></th>\n    </tr>\n  </thead>\n  <tbody>\n    <tr>\n      <th>Masculino</th>\n      <td>0.333160</td>\n      <td>28.883394</td>\n      <td>7.160333</td>\n      <td>0.305830</td>\n      <td>32.617126</td>\n    </tr>\n    <tr>\n      <th>Feminino</th>\n      <td>0.131442</td>\n      <td>12.520822</td>\n      <td>3.759761</td>\n      <td>0.152264</td>\n      <td>14.135867</td>\n    </tr>\n  </tbody>\n</table>\n</div>"
     },
     "metadata": {},
     "execution_count": 65
    }
   ],
   "source": [
    "dataset = pd.read_csv('C:\\\\Users\\\\vinis\\\\Desktop\\\\dados.csv', sep=';')\n",
    "sexo = { \n",
    "    0: 'Masculino',\n",
    "    1: 'Feminino'}\n",
    "cor = {\n",
    "    0: 'Indigena',\n",
    "    2: 'Branca',\n",
    "    4: 'Preta',\n",
    "    6: 'Amarela',\n",
    "    8: 'Parda',\n",
    "    9: 'Sem declaracao'\n",
    "}\n",
    "#Cruzando os dados da tabela. Primeiro sempre as linhas e em segundo as colunas\n",
    "frequencia = pd.crosstab(dataset.Sexo, dataset.Cor)\n",
    "frequencia.rename(index = sexo, inplace = True )\n",
    "#Alterando o nome das colunas. LEMBRANDO QUE SEMPRE PRECISO DECLARAR QUAIS OS VALORES E NOMES DAS COLUNAS E LINHAS ANTES DE FAZER O CRUZAMENTO. DE PREFERENCIA EM UM DICIONARIO.\n",
    "frequencia.rename(columns = cor, inplace = True )\n",
    "#Mesma coisa, porém com o 'normalize' transformando os dados em percentual\n",
    "percentual = pd.crosstab(dataset.Sexo, dataset.Cor, normalize = True) * 100\n",
    "percentual.rename(index = sexo, inplace = True )\n",
    "percentual.rename(columns = cor, inplace = True )\n",
    "percentual \n",
    "\n",
    "\n"
   ]
  },
  {
   "cell_type": "code",
   "execution_count": 66,
   "metadata": {},
   "outputs": [
    {
     "output_type": "execute_result",
     "data": {
      "text/plain": [
       "Cor           Indigena       Branca        Preta      Amarela        Parda\n",
       "Sexo                                                                      \n",
       "Masculino  1081.710938  2925.744435  1603.861687  4758.251064  1659.577425\n",
       "Feminino   2464.386139  2109.866750  1134.596400  3027.341880  1176.758516"
      ],
      "text/html": "<div>\n<style scoped>\n    .dataframe tbody tr th:only-of-type {\n        vertical-align: middle;\n    }\n\n    .dataframe tbody tr th {\n        vertical-align: top;\n    }\n\n    .dataframe thead th {\n        text-align: right;\n    }\n</style>\n<table border=\"1\" class=\"dataframe\">\n  <thead>\n    <tr style=\"text-align: right;\">\n      <th>Cor</th>\n      <th>Indigena</th>\n      <th>Branca</th>\n      <th>Preta</th>\n      <th>Amarela</th>\n      <th>Parda</th>\n    </tr>\n    <tr>\n      <th>Sexo</th>\n      <th></th>\n      <th></th>\n      <th></th>\n      <th></th>\n      <th></th>\n    </tr>\n  </thead>\n  <tbody>\n    <tr>\n      <th>Masculino</th>\n      <td>1081.710938</td>\n      <td>2925.744435</td>\n      <td>1603.861687</td>\n      <td>4758.251064</td>\n      <td>1659.577425</td>\n    </tr>\n    <tr>\n      <th>Feminino</th>\n      <td>2464.386139</td>\n      <td>2109.866750</td>\n      <td>1134.596400</td>\n      <td>3027.341880</td>\n      <td>1176.758516</td>\n    </tr>\n  </tbody>\n</table>\n</div>"
     },
     "metadata": {},
     "execution_count": 66
    }
   ],
   "source": [
    "dataset = pd.read_csv('C:\\\\Users\\\\vinis\\\\Desktop\\\\dados.csv', sep=';')\n",
    "sexo = { \n",
    "    0: 'Masculino',\n",
    "    1: 'Feminino'}\n",
    "cor = {\n",
    "    0: 'Indigena',\n",
    "    2: 'Branca',\n",
    "    4: 'Preta',\n",
    "    6: 'Amarela',\n",
    "    8: 'Parda',\n",
    "    9: 'Sem declaracao'\n",
    "}\n",
    "#NESSE TRECHO VOU COMPARAR DUAS COLUNAS E TIRAR A MÉDIA DE UMA TERCEIRA COLUNA SOBRE ESSAS DUAS. NESSE CASO VAMOS ANALISAR A RENDA DE CADA SEXO COM BASE EM SUA COR. O método AGGFUNC agrega as tabelas usando uma operação, que nesse caso foi 'mean ' = média aritmética. O parâmetro 'values = dataset.Renda' foi utilizado para que possamos agregar a coluna Renda como um comparativo dentro da tabela.\n",
    "frequencia = pd.crosstab(dataset.Sexo, dataset.Cor, aggfunc = 'mean', values = dataset.Renda)\n",
    "frequencia.rename(index = sexo, inplace = True )\n",
    "frequencia.rename(columns = cor, inplace = True )\n",
    "frequencia"
   ]
  },
  {
   "cell_type": "code",
   "execution_count": null,
   "metadata": {},
   "outputs": [],
   "source": []
  }
 ]
}